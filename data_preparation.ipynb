{
 "cells": [
  {
   "cell_type": "code",
   "execution_count": 110,
   "metadata": {},
   "outputs": [],
   "source": [
    "!pip install pypng\n",
    "!pip install pydicom\n",
    "!pip install opencv-python\n",
    "import numpy as np\n",
    "import png\n",
    "import pydicom\n",
    "import cv2\n",
    "import matplotlib.pylab as plt\n",
    "import os\n",
    "import shutil\n",
    "import random"
   ]
  },
  {
   "cell_type": "code",
   "execution_count": 6,
   "metadata": {},
   "outputs": [],
   "source": [
    "def read_png_and_contour_draw(png_name, contour_list):\n",
    "    img = cv2.imread(png_name)\n",
    "    color = (255, 0, 0)\n",
    "    thickness = 2\n",
    "    isClosed = True\n",
    "    img = cv2.polylines(img, [contour_list], isClosed, color, thickness)\n",
    "    plt.imshow(img)\n",
    "    plt.show()"
   ]
  },
  {
   "cell_type": "code",
   "execution_count": 7,
   "metadata": {},
   "outputs": [],
   "source": [
    "def create_mask_from_contour_list(cnt_file, path):\n",
    "    contour_list = []\n",
    "    with open(cnt_file) as f:\n",
    "        lines = f.readlines()\n",
    "        for lin in lines:\n",
    "            cntrs = lin.strip().split(\" \")\n",
    "            contour_list.append([int(float(cntrs[0])), int(float(cntrs[1]))])\n",
    "    mask = np.zeros((256, 256, 1), dtype = \"uint8\")\n",
    "    pts = np.array(contour_list).reshape((-1, 1, 2))\n",
    "    mask = cv2.fillPoly(mask, [pts], 255)\n",
    "    cv2.imwrite(path + \"mask/img/\" + str(len(os.listdir(path + \"mask/img/\")) + 1) + \".png\", mask)"
   ]
  },
  {
   "cell_type": "code",
   "execution_count": 11,
   "metadata": {},
   "outputs": [],
   "source": [
    "def dicom_to_png_convert(name, path):\n",
    "    ds = pydicom.dcmread(name)\n",
    "    shape = ds.pixel_array.shape\n",
    "    # Convert to float to avoid overflow or underflow losses.\n",
    "    image_2d = ds.pixel_array.astype(float)\n",
    "    # Rescaling grey scale between 0-255\n",
    "    image_2d_scaled = (np.maximum(image_2d,0) / image_2d.max()) * 255.0\n",
    "    # Convert to uint\n",
    "    image_2d_scaled = np.uint8(image_2d_scaled)\n",
    "    # Write the PNG file\n",
    "    with open(path + \"images/img/\" + str(len(os.listdir(path + \"images/img/\")) + 1) + \".png\", 'wb') as png_file:\n",
    "        w = png.Writer(shape[1], shape[0], greyscale=True)\n",
    "        w.write(png_file, image_2d_scaled)"
   ]
  },
  {
   "cell_type": "code",
   "execution_count": 12,
   "metadata": {},
   "outputs": [],
   "source": [
    "def create_training_testing_data():\n",
    "    folder_no = 0\n",
    "    base_folder = \"Dataset\"\n",
    "    for part in os.listdir(base_folder):\n",
    "        if \"Contours\" in part:\n",
    "            level1 = base_folder + \"/\" + part\n",
    "            level2 = level1 + \"/\" + os.listdir(level1)[0]\n",
    "            for i in os.listdir(level2):\n",
    "                if \"Contours\" in i:\n",
    "                    level3 = level2 + \"/\" + i\n",
    "                    print(folder_no, level3)\n",
    "                    for j in os.listdir(level3):\n",
    "                        if j[0:2] == \"SC\":\n",
    "                            level4 = level3 + \"/\" + j\n",
    "                            all_contours = os.listdir(level4 + \"/contours-manual/IRCCI-expert\")\n",
    "                            image_path = level4.replace(\"Contours\",\"DICOM\") + \"/DICOM\"\n",
    "                            for k in all_contours:\n",
    "                                if \"icontour\" in k:\n",
    "                                    final_img_pth = image_path + \"/\" + k[0:12] + \".dcm\"\n",
    "                                    final_mask_pth = level4 + \"/contours-manual/IRCCI-expert/\" + k\n",
    "                                    path = 'Processed_Dataset/training/'\n",
    "                                    if folder_no%2 == 1:\n",
    "                                        path = 'Processed_Dataset/testing/'\n",
    "                                    create_mask_from_contour_list(final_mask_pth, path)\n",
    "                                    dicom_to_png_convert(final_img_pth, path)\n",
    "                    folder_no += 1"
   ]
  },
  {
   "cell_type": "code",
   "execution_count": 102,
   "metadata": {},
   "outputs": [],
   "source": [
    "training_path = 'Processed_Dataset/training/'\n",
    "def rotate_image(img, angle):\n",
    "    (h, w) = img.shape[:2]\n",
    "    center = (w / 2, h / 2)\n",
    "    scale = 1.0\n",
    "    M = cv2.getRotationMatrix2D(center, angle, scale)\n",
    "    rotated = cv2.warpAffine(img, M, (h, w))\n",
    "    return rotated\n",
    "def flip_image(img, flip):\n",
    "    return cv2.flip(img, flip)\n",
    "\n",
    "def augment_training_data():\n",
    "    all_images = os.listdir(training_path + 'images/img')\n",
    "    for name in all_images:\n",
    "        im1 = cv2.imread(training_path + 'images/img/' + name)\n",
    "        im2 = cv2.imread(training_path + 'mask/img/' + name)\n",
    "        for angle in [45, 90, 135, 180, 225, 270, 315, 0, 1]:\n",
    "            new_name = name.replace(\".png\", '') + \"_\" + str(angle) + \".png\"\n",
    "            if angle < 45:\n",
    "                image = flip_image(im1, angle)\n",
    "                mask = flip_image(im2, angle)\n",
    "            else:\n",
    "                image = rotate_image(im1, angle)\n",
    "                mask = rotate_image(im2, angle)\n",
    "            cv2.imwrite(training_path + 'images/img/' + new_name, image)\n",
    "            cv2.imwrite(training_path + 'mask/img/' + new_name, mask)\n"
   ]
  },
  {
   "cell_type": "code",
   "execution_count": 114,
   "metadata": {},
   "outputs": [],
   "source": [
    "def prepare_validation_data():\n",
    "    all_images = os.listdir(training_path + 'images/img')\n",
    "    validation = random.sample(all_images, 500)\n",
    "    for i in validation:\n",
    "        shutil.move(training_path + 'images/img/' + i, 'Processed_Dataset/validation/images/img/' + i)\n",
    "        shutil.move(training_path + 'mask/img/' + i, 'Processed_Dataset/validation/mask/img/' + i)"
   ]
  },
  {
   "cell_type": "code",
   "execution_count": 115,
   "metadata": {},
   "outputs": [],
   "source": [
    "create_training_testing_data()\n",
    "augment_training_data()\n",
    "prepare_validation_data()"
   ]
  },
  {
   "cell_type": "code",
   "execution_count": null,
   "metadata": {},
   "outputs": [],
   "source": []
  }
 ],
 "metadata": {
  "kernelspec": {
   "display_name": "Python 3 (ipykernel)",
   "language": "python",
   "name": "python3"
  },
  "language_info": {
   "codemirror_mode": {
    "name": "ipython",
    "version": 3
   },
   "file_extension": ".py",
   "mimetype": "text/x-python",
   "name": "python",
   "nbconvert_exporter": "python",
   "pygments_lexer": "ipython3",
   "version": "3.9.13"
  }
 },
 "nbformat": 4,
 "nbformat_minor": 2
}